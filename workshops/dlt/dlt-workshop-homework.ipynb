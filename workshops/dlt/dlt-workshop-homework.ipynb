{
 "cells": [
  {
   "cell_type": "markdown",
   "id": "3306a64f",
   "metadata": {},
   "source": [
    "# Homework\n",
    "\n",
    "## Question 1. dlt Version\n",
    "\n",
    "In this homework, we will load the data from our FAQ to Qdrant\n",
    "\n",
    "Let's install dlt with Qdrant support and Qdrant client:\n",
    "\n",
    "```bash\n",
    "pip install -q \"dlt[qdrant]\" \"qdrant-client[fastembed]\"\n",
    "```\n",
    "\n",
    "What's the version of dlt that you installed?"
   ]
  },
  {
   "cell_type": "code",
   "execution_count": 3,
   "id": "7554499f",
   "metadata": {},
   "outputs": [
    {
     "name": "stdout",
     "output_type": "stream",
     "text": [
      "Note: you may need to restart the kernel to use updated packages.\n",
      "dlt version: 1.13.0\n",
      "qdrant-client version: 1.14.3\n",
      "✅ All required packages installed successfully!\n",
      "qdrant-client version: 1.14.3\n",
      "✅ All required packages installed successfully!\n"
     ]
    },
    {
     "name": "stderr",
     "output_type": "stream",
     "text": [
      "/tmp/ipykernel_4213/3386569441.py:13: DeprecationWarning: pkg_resources is deprecated as an API. See https://setuptools.pypa.io/en/latest/pkg_resources.html\n",
      "  import pkg_resources\n"
     ]
    }
   ],
   "source": [
    "# Install dlt with Qdrant support and Qdrant client silently (suppress output with -q flag)\n",
    "%pip install -q \"dlt[qdrant]\" \"qdrant-client[fastembed]\"\n",
    "\n",
    "# Import modules after installation\n",
    "import dlt\n",
    "import qdrant_client\n",
    "\n",
    "# Import dlt to verify installation and check the version programmatically\n",
    "print(f\"dlt version: {dlt.__version__}\")  # Format output clearly for homework answer\n",
    "\n",
    "# Also verify qdrant client installation\n",
    "try:\n",
    "    import pkg_resources\n",
    "    qdrant_version = pkg_resources.get_distribution('qdrant-client').version\n",
    "    print(f\"qdrant-client version: {qdrant_version}\")\n",
    "    print(\"✅ All required packages installed successfully!\")\n",
    "except (ImportError, pkg_resources.DistributionNotFound):\n",
    "    print(\"❌ Error: qdrant-client installation failed\")"
   ]
  },
  {
   "cell_type": "markdown",
   "id": "b3e4c47a",
   "metadata": {},
   "source": [
    "## dlt Resourse\n",
    "\n",
    "For reading the FAQ data, we have this helper function:\n",
    "\n",
    "```python\n",
    "def zoomcamp_data():\n",
    "    docs_url = 'https://github.com/alexeygrigorev/llm-rag-workshop/raw/main/notebooks/documents.json'\n",
    "    docs_response = requests.get(docs_url)\n",
    "    documents_raw = docs_response.json()\n",
    "\n",
    "    for course in documents_raw:\n",
    "        course_name = course['course']\n",
    "\n",
    "        for doc in course['documents']:\n",
    "            doc['course'] = course_name\n",
    "            yield doc\n",
    "```\n",
    "\n",
    "Annotate it with `@dlt.resource`. We will use it when creating\n",
    "a dlt pipeline."
   ]
  },
  {
   "cell_type": "code",
   "execution_count": 4,
   "id": "ab51c468",
   "metadata": {},
   "outputs": [],
   "source": [
    "import dlt\n",
    "import requests\n",
    "\n",
    "@dlt.resource(write_disposition=\"replace\", name=\"zoomcamp_data\")\n",
    "def zoomcamp_data():\n",
    "    docs_url = 'https://github.com/alexeygrigorev/llm-rag-workshop/raw/main/notebooks/documents.json'\n",
    "    docs_response = requests.get(docs_url)\n",
    "    documents_raw = docs_response.json()\n",
    "\n",
    "    for course in documents_raw:\n",
    "        course_name = course['course']\n",
    "\n",
    "        for doc in course['documents']:\n",
    "            doc['course'] = course_name\n",
    "            yield doc"
   ]
  },
  {
   "cell_type": "markdown",
   "id": "d1ed56f9",
   "metadata": {},
   "source": [
    "## Question 2. dlt pipeline\n",
    "\n",
    "Now let's create a pipeline. \n",
    "\n",
    "We need to define a destination for that. Let's use the `qdrant` one:\n",
    "\n",
    "```python\n",
    "from dlt.destinations import qdrant\n",
    "\n",
    "qdrant_destination = qdrant(\n",
    "  qd_path=\"db.qdrant\", \n",
    ")\n",
    "```\n",
    "\n",
    "In this case, we tell dlt (and Qdrant) to create a folder with\n",
    "our data, and the name for it will be `db.qdrant`\n",
    "\n",
    "Let's run it:\n",
    "\n",
    "```python\n",
    "pipeline = dlt.pipeline(\n",
    "    pipeline_name=\"zoomcamp_pipeline\",\n",
    "    destination=qdrant_destination,\n",
    "    dataset_name=\"zoomcamp_tagged_data\"\n",
    "\n",
    ")\n",
    "load_info = pipeline.run(zoomcamp_data())\n",
    "print(pipeline.last_trace)\n",
    "```\n",
    "\n",
    "How many rows were inserted into the `zoomcamp_data` collection?\n",
    "\n",
    "Look for `\"Normalized data for the following tables:\"` in the trace output."
   ]
  },
  {
   "cell_type": "code",
   "execution_count": 5,
   "id": "c89140de",
   "metadata": {},
   "outputs": [
    {
     "data": {
      "application/vnd.jupyter.widget-view+json": {
       "model_id": "f1a838be50804cb1aae4b0222595ede5",
       "version_major": 2,
       "version_minor": 0
      },
      "text/plain": [
       "Fetching 5 files:   0%|          | 0/5 [00:00<?, ?it/s]"
      ]
     },
     "metadata": {},
     "output_type": "display_data"
    },
    {
     "data": {
      "application/vnd.jupyter.widget-view+json": {
       "model_id": "440364b674974ba996f426d182cc78fb",
       "version_major": 2,
       "version_minor": 0
      },
      "text/plain": [
       "config.json:   0%|          | 0.00/701 [00:00<?, ?B/s]"
      ]
     },
     "metadata": {},
     "output_type": "display_data"
    },
    {
     "data": {
      "application/vnd.jupyter.widget-view+json": {
       "model_id": "5f514c6c06744514a442c0b9bd696967",
       "version_major": 2,
       "version_minor": 0
      },
      "text/plain": [
       "tokenizer_config.json:   0%|          | 0.00/366 [00:00<?, ?B/s]"
      ]
     },
     "metadata": {},
     "output_type": "display_data"
    },
    {
     "data": {
      "application/vnd.jupyter.widget-view+json": {
       "model_id": "c8b7358d8ae94d96b02b02540805410b",
       "version_major": 2,
       "version_minor": 0
      },
      "text/plain": [
       "special_tokens_map.json:   0%|          | 0.00/125 [00:00<?, ?B/s]"
      ]
     },
     "metadata": {},
     "output_type": "display_data"
    },
    {
     "data": {
      "application/vnd.jupyter.widget-view+json": {
       "model_id": "382e3e4c32284f90a2381ea9a1f986ac",
       "version_major": 2,
       "version_minor": 0
      },
      "text/plain": [
       "tokenizer.json: 0.00B [00:00, ?B/s]"
      ]
     },
     "metadata": {},
     "output_type": "display_data"
    },
    {
     "data": {
      "application/vnd.jupyter.widget-view+json": {
       "model_id": "f9703fd9e1ff43dd8f843c417b98db72",
       "version_major": 2,
       "version_minor": 0
      },
      "text/plain": [
       "model_optimized.onnx:   0%|          | 0.00/133M [00:00<?, ?B/s]"
      ]
     },
     "metadata": {},
     "output_type": "display_data"
    },
    {
     "name": "stdout",
     "output_type": "stream",
     "text": [
      "Run started at 2025-07-09 23:54:12.962410+00:00 and COMPLETED in 6.26 seconds with 4 steps.\n",
      "Step extract COMPLETED in 0.54 seconds.\n",
      "\n",
      "Load package 1752105254.6430333 is EXTRACTED and NOT YET LOADED to the destination and contains no failed jobs\n",
      "\n",
      "Step normalize COMPLETED in 0.08 seconds.\n",
      "Normalized data for the following tables:\n",
      "- zoomcamp_data: 948 row(s)\n",
      "- _dlt_pipeline_state: 1 row(s)\n",
      "\n",
      "Load package 1752105254.6430333 is NORMALIZED and NOT YET LOADED to the destination and contains no failed jobs\n",
      "\n",
      "Step load COMPLETED in 3.96 seconds.\n",
      "Pipeline zoomcamp_pipeline load step completed in 3.95 seconds\n",
      "1 load package(s) were loaded to destination qdrant and into dataset zoomcamp_tagged_data\n",
      "The qdrant destination used /workspaces/llm-zoomcamp/workshops/dlt/db.qdrant location to store data\n",
      "Load package 1752105254.6430333 is LOADED and contains no failed jobs\n",
      "\n",
      "Step run COMPLETED in 6.26 seconds.\n",
      "Pipeline zoomcamp_pipeline load step completed in 3.95 seconds\n",
      "1 load package(s) were loaded to destination qdrant and into dataset zoomcamp_tagged_data\n",
      "The qdrant destination used /workspaces/llm-zoomcamp/workshops/dlt/db.qdrant location to store data\n",
      "Load package 1752105254.6430333 is LOADED and contains no failed jobs\n"
     ]
    }
   ],
   "source": [
    "from dlt.destinations import qdrant\n",
    "\n",
    "qdrant_destination = qdrant(\n",
    "  qd_path=\"db.qdrant\", \n",
    ")\n",
    "\n",
    "pipeline = dlt.pipeline(\n",
    "    pipeline_name=\"zoomcamp_pipeline\",\n",
    "    destination=qdrant_destination,\n",
    "    dataset_name=\"zoomcamp_tagged_data\"\n",
    "\n",
    ")\n",
    "load_info = pipeline.run(zoomcamp_data())\n",
    "print(pipeline.last_trace)"
   ]
  },
  {
   "cell_type": "markdown",
   "id": "68106051",
   "metadata": {},
   "source": [
    "## Question 3. Embeddings\n",
    "\n",
    "When inserting the data, an embedding model was used. Which one?\n",
    "\n",
    "You can find this out by inspecting the `meta.json` file created\n",
    "in the target folder. During the data insertion process, a folder named db.qdrant will be created, and the meta.json file will be located inside this folder."
   ]
  },
  {
   "cell_type": "code",
   "execution_count": 13,
   "id": "6cd03ed7",
   "metadata": {},
   "outputs": [
    {
     "name": "stdout",
     "output_type": "stream",
     "text": [
      "Embedding model: fast-bge-small-en\n"
     ]
    }
   ],
   "source": [
    "# Extract embedding model from the vectors configuration\n",
    "if 'vectors' in collection_info:\n",
    "    vectors_config = collection_info['vectors']\n",
    "    for vector_name in vectors_config.keys():\n",
    "        print(f\"Embedding model: {vector_name}\")\n"
   ]
  }
 ],
 "metadata": {
  "kernelspec": {
   "display_name": "Python 3",
   "language": "python",
   "name": "python3"
  },
  "language_info": {
   "codemirror_mode": {
    "name": "ipython",
    "version": 3
   },
   "file_extension": ".py",
   "mimetype": "text/x-python",
   "name": "python",
   "nbconvert_exporter": "python",
   "pygments_lexer": "ipython3",
   "version": "3.12.1"
  }
 },
 "nbformat": 4,
 "nbformat_minor": 5
}
